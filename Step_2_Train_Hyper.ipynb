{
 "cells": [
  {
   "cell_type": "code",
   "execution_count": 1,
   "id": "69a01600",
   "metadata": {},
   "outputs": [],
   "source": [
    "import torch\n",
    "import numpy as np\n",
    "import pickle\n",
    "from hyper import HyperNetwork"
   ]
  },
  {
   "cell_type": "code",
   "execution_count": 2,
   "id": "c1cac3a6",
   "metadata": {},
   "outputs": [
    {
     "data": {
      "text/plain": [
       "'2.0.0'"
      ]
     },
     "execution_count": 2,
     "metadata": {},
     "output_type": "execute_result"
    }
   ],
   "source": [
    "torch.__version__"
   ]
  },
  {
   "cell_type": "code",
   "execution_count": 3,
   "id": "dedd3bfa",
   "metadata": {},
   "outputs": [
    {
     "data": {
      "text/plain": [
       "<torch._C.Generator at 0x7f9c0005deb0>"
      ]
     },
     "execution_count": 3,
     "metadata": {},
     "output_type": "execute_result"
    }
   ],
   "source": [
    "torch.manual_seed(1943)"
   ]
  },
  {
   "cell_type": "code",
   "execution_count": 4,
   "id": "b21af437",
   "metadata": {},
   "outputs": [],
   "source": [
    "pricing_network = torch.nn.Sequential(\n",
    "    torch.nn.Linear(3, 100),\n",
    "    torch.nn.ReLU(),\n",
    "    torch.nn.Linear(100, 1),\n",
    ")"
   ]
  },
  {
   "cell_type": "code",
   "execution_count": 5,
   "id": "a7334d8a",
   "metadata": {},
   "outputs": [
    {
     "data": {
      "text/plain": [
       "501"
      ]
     },
     "execution_count": 5,
     "metadata": {},
     "output_type": "execute_result"
    }
   ],
   "source": [
    "# compute the total number of parameters in the pricing network\n",
    "n_params = sum([p.numel() for p in pricing_network.parameters()])\n",
    "n_params"
   ]
  },
  {
   "cell_type": "code",
   "execution_count": 6,
   "id": "7d0fb4c4",
   "metadata": {},
   "outputs": [],
   "source": [
    "hyper_network = torch.nn.Sequential(\n",
    "    torch.nn.Linear(4, 100),\n",
    "    torch.nn.ReLU(),\n",
    "    torch.nn.Linear(100, n_params),\n",
    ")"
   ]
  },
  {
   "cell_type": "code",
   "execution_count": 7,
   "id": "5c493f81",
   "metadata": {},
   "outputs": [],
   "source": [
    "optim = torch.optim.Adam(hyper_network.parameters(), lr=1e-3)"
   ]
  },
  {
   "cell_type": "code",
   "execution_count": 8,
   "id": "47e38945",
   "metadata": {},
   "outputs": [],
   "source": [
    "model = HyperNetwork(hyper_network, pricing_network)"
   ]
  },
  {
   "cell_type": "code",
   "execution_count": 9,
   "id": "e4589699",
   "metadata": {},
   "outputs": [
    {
     "name": "stdout",
     "output_type": "stream",
     "text": [
      "0 0 1.465867\n"
     ]
    }
   ],
   "source": [
    "for J in range(100):\n",
    "    for I in range(32*32*32):\n",
    "        training_data = pickle.load(open('trn_%09d.pkl' % I,'rb'))\n",
    "        theta = torch.from_numpy(np.vstack([i['param'] for i in training_data]).astype(np.float32))\n",
    "        x = torch.from_numpy(np.stack([i['input'] for i in training_data]).astype(np.float32))\n",
    "        y = torch.from_numpy(np.stack([i['output'] for i in training_data]).astype(np.float32))\n",
    "        optim.zero_grad()\n",
    "        rnd_idx = np.random.choice(32,16,replace=False)\n",
    "        theta_, x_, y_ = theta[rnd_idx], x[rnd_idx], y[rnd_idx] # batch\n",
    "        loss = torch.abs(model(theta_, x_)-y_).mean() # MAE\n",
    "        loss.backward()\n",
    "        optim.step()\n",
    "        if I % 100 == 0:\n",
    "            print(J, I, loss.detach().cpu().numpy())\n",
    "        break # delete this\n",
    "    break # delete this"
   ]
  },
  {
   "cell_type": "code",
   "execution_count": 10,
   "id": "72e7494e",
   "metadata": {},
   "outputs": [],
   "source": [
    "torch.save(hyper_network.state_dict(), 'trained_hyper.pth')"
   ]
  }
 ],
 "metadata": {
  "kernelspec": {
   "display_name": "Python 3 (ipykernel)",
   "language": "python",
   "name": "python3"
  },
  "language_info": {
   "codemirror_mode": {
    "name": "ipython",
    "version": 3
   },
   "file_extension": ".py",
   "mimetype": "text/x-python",
   "name": "python",
   "nbconvert_exporter": "python",
   "pygments_lexer": "ipython3",
   "version": "3.9.13"
  }
 },
 "nbformat": 4,
 "nbformat_minor": 5
}

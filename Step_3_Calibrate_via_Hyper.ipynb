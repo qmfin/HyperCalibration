{
 "cells": [
  {
   "cell_type": "code",
   "execution_count": 1,
   "id": "436dda8d",
   "metadata": {},
   "outputs": [],
   "source": [
    "import torch\n",
    "import numpy as np\n",
    "import pandas as pd\n",
    "from hyper import HyperNetwork\n",
    "from rbergomi import rb_pricing\n",
    "import matplotlib.pyplot as plt\n",
    "%matplotlib inline"
   ]
  },
  {
   "cell_type": "code",
   "execution_count": 2,
   "id": "ef9ba6a2",
   "metadata": {},
   "outputs": [
    {
     "data": {
      "text/plain": [
       "'2.0.0'"
      ]
     },
     "execution_count": 2,
     "metadata": {},
     "output_type": "execute_result"
    }
   ],
   "source": [
    "torch.__version__"
   ]
  },
  {
   "cell_type": "code",
   "execution_count": 3,
   "id": "faaf3465",
   "metadata": {},
   "outputs": [
    {
     "data": {
      "text/plain": [
       "<torch._C.Generator at 0x7facea830e50>"
      ]
     },
     "execution_count": 3,
     "metadata": {},
     "output_type": "execute_result"
    }
   ],
   "source": [
    "torch.manual_seed(1943)"
   ]
  },
  {
   "cell_type": "code",
   "execution_count": 4,
   "id": "68e7dd88",
   "metadata": {},
   "outputs": [],
   "source": [
    "pricing_network = torch.nn.Sequential(\n",
    "    torch.nn.Linear(3, 100),\n",
    "    torch.nn.ReLU(),\n",
    "    torch.nn.Linear(100, 1),\n",
    ")"
   ]
  },
  {
   "cell_type": "code",
   "execution_count": 5,
   "id": "c8e58b54",
   "metadata": {},
   "outputs": [
    {
     "data": {
      "text/plain": [
       "501"
      ]
     },
     "execution_count": 5,
     "metadata": {},
     "output_type": "execute_result"
    }
   ],
   "source": [
    "# compute the total number of parameters in the pricing network\n",
    "n_params = sum([p.numel() for p in pricing_network.parameters()])\n",
    "n_params"
   ]
  },
  {
   "cell_type": "code",
   "execution_count": 6,
   "id": "5ab0d88e",
   "metadata": {},
   "outputs": [],
   "source": [
    "hyper_network = torch.nn.Sequential(\n",
    "    torch.nn.Linear(4, 100),\n",
    "    torch.nn.ReLU(),\n",
    "    torch.nn.Linear(100, n_params),\n",
    ")"
   ]
  },
  {
   "cell_type": "code",
   "execution_count": 7,
   "id": "9a977a4f",
   "metadata": {},
   "outputs": [
    {
     "data": {
      "text/plain": [
       "<All keys matched successfully>"
      ]
     },
     "execution_count": 7,
     "metadata": {},
     "output_type": "execute_result"
    }
   ],
   "source": [
    "hyper_network.load_state_dict(torch.load('trained_hyper.pth'))"
   ]
  },
  {
   "cell_type": "code",
   "execution_count": 8,
   "id": "f040afd9",
   "metadata": {},
   "outputs": [
    {
     "data": {
      "text/plain": [
       "Sequential(\n",
       "  (0): Linear(in_features=4, out_features=100, bias=True)\n",
       "  (1): ReLU()\n",
       "  (2): Linear(in_features=100, out_features=501, bias=True)\n",
       ")"
      ]
     },
     "execution_count": 8,
     "metadata": {},
     "output_type": "execute_result"
    }
   ],
   "source": [
    "hyper_network.eval()"
   ]
  },
  {
   "cell_type": "code",
   "execution_count": 9,
   "id": "827615a0",
   "metadata": {},
   "outputs": [],
   "source": [
    "model = HyperNetwork(hyper_network, pricing_network)"
   ]
  },
  {
   "cell_type": "code",
   "execution_count": 10,
   "id": "84d6bc52",
   "metadata": {},
   "outputs": [],
   "source": [
    "df = pd.read_json('./sp500_2017.json.bz2', compression='bz2', orient='index')"
   ]
  },
  {
   "cell_type": "code",
   "execution_count": 11,
   "id": "fd6f50bb",
   "metadata": {},
   "outputs": [],
   "source": [
    "# df"
   ]
  },
  {
   "cell_type": "code",
   "execution_count": 12,
   "id": "59aebda7",
   "metadata": {},
   "outputs": [],
   "source": [
    "one_day = df.query('date==\"2017-12-29\"')"
   ]
  },
  {
   "cell_type": "code",
   "execution_count": 13,
   "id": "782638a3",
   "metadata": {},
   "outputs": [],
   "source": [
    "options = one_day[['forward_price','tau','strike_price', 'is_call']].values"
   ]
  },
  {
   "cell_type": "code",
   "execution_count": 14,
   "id": "20805f4f",
   "metadata": {},
   "outputs": [],
   "source": [
    "input_all = np.vstack([options[:,2]/options[:,0], options[:,1], options[:,3]]).T.astype(np.float32)"
   ]
  },
  {
   "cell_type": "code",
   "execution_count": 15,
   "id": "11a41c1b",
   "metadata": {},
   "outputs": [],
   "source": [
    "price_norm = one_day['option_price'].values \n",
    "price_norm = price_norm * np.exp(one_day['risk_free_rate'].values * one_day['tau'].values)\n",
    "price_norm = price_norm / one_day['forward_price'].values\n",
    "price_norm = price_norm.astype(np.float32)"
   ]
  },
  {
   "cell_type": "code",
   "execution_count": 16,
   "id": "c7444d36",
   "metadata": {},
   "outputs": [],
   "source": [
    "mf_model_param_unconstrained = torch.randn(4, requires_grad=True)"
   ]
  },
  {
   "cell_type": "code",
   "execution_count": 17,
   "id": "805e1d13",
   "metadata": {},
   "outputs": [],
   "source": [
    "optim = torch.optim.Adam([mf_model_param_unconstrained], lr=1e-3)"
   ]
  },
  {
   "cell_type": "code",
   "execution_count": 18,
   "id": "021e2119",
   "metadata": {},
   "outputs": [
    {
     "name": "stdout",
     "output_type": "stream",
     "text": [
      "0.6235524\n",
      "0.55807966\n",
      "0.5054046\n",
      "0.45851958\n",
      "0.41802096\n",
      "0.37603143\n",
      "0.34515008\n",
      "0.31881317\n",
      "0.29620075\n",
      "0.27432784\n"
     ]
    }
   ],
   "source": [
    "for I in range(1000):\n",
    "    \n",
    "    H = torch.sigmoid(mf_model_param_unconstrained[0])*0.5      # (0, 0.5)\n",
    "    rho = torch.tanh(mf_model_param_unconstrained[1])           # (-1,1)\n",
    "    eta = torch.sigmoid(mf_model_param_unconstrained[2])*5.0    # (0, 5]\n",
    "    v0 = torch.sigmoid(mf_model_param_unconstrained[3])         # (0, 1]\n",
    "    \n",
    "    mf_model_param = torch.stack([H, rho, eta, v0]).view(1,-1)\n",
    "    \n",
    "    model_pred = model(mf_model_param, torch.from_numpy(input_all[None,:,:])).squeeze(0,2)\n",
    "    loss = torch.abs(model_pred-torch.from_numpy(price_norm)).mean()\n",
    "\n",
    "    optim.zero_grad()\n",
    "    loss.backward()\n",
    "    optim.step()\n",
    "    \n",
    "    if I % 100 == 0:\n",
    "        print(loss.detach().cpu().numpy())"
   ]
  },
  {
   "cell_type": "code",
   "execution_count": 19,
   "id": "14bd91c2",
   "metadata": {},
   "outputs": [],
   "source": [
    "pred_prices = rb_pricing(input_all,\n",
    "                         1.0, \n",
    "                         H.detach().cpu().numpy(), \n",
    "                         rho.detach().cpu().numpy(), \n",
    "                         eta.detach().cpu().numpy(),\n",
    "                         v0.detach().cpu().numpy())"
   ]
  },
  {
   "cell_type": "code",
   "execution_count": 20,
   "id": "b31bec46",
   "metadata": {},
   "outputs": [],
   "source": [
    "pred_prices_final = pred_prices['output'].flatten()\n",
    "pred_prices_final = pred_prices_final / np.exp(one_day['risk_free_rate'].values * one_day['tau'].values)\n",
    "pred_prices_final = pred_prices_final * one_day['forward_price'].values"
   ]
  },
  {
   "cell_type": "code",
   "execution_count": 21,
   "id": "ec1d34e7",
   "metadata": {},
   "outputs": [],
   "source": [
    "# pred_prices_final"
   ]
  },
  {
   "cell_type": "code",
   "execution_count": 22,
   "id": "e50c7c92",
   "metadata": {},
   "outputs": [],
   "source": [
    "# plt.scatter(one_day['strike_price'], one_day['option_price'], marker='.')\n",
    "# plt.scatter(one_day['strike_price'], pred_prices_final, marker='.')"
   ]
  }
 ],
 "metadata": {
  "kernelspec": {
   "display_name": "Python 3 (ipykernel)",
   "language": "python",
   "name": "python3"
  },
  "language_info": {
   "codemirror_mode": {
    "name": "ipython",
    "version": 3
   },
   "file_extension": ".py",
   "mimetype": "text/x-python",
   "name": "python",
   "nbconvert_exporter": "python",
   "pygments_lexer": "ipython3",
   "version": "3.9.13"
  }
 },
 "nbformat": 4,
 "nbformat_minor": 5
}

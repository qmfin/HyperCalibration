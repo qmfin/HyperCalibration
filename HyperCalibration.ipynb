{
 "cells": [
  {
   "cell_type": "code",
   "execution_count": 1,
   "id": "d510142b",
   "metadata": {},
   "outputs": [],
   "source": [
    "import json\n",
    "import torch\n",
    "import functorch\n",
    "import numpy as np\n",
    "import pandas as pd"
   ]
  },
  {
   "cell_type": "code",
   "execution_count": 2,
   "id": "2e6a74e0",
   "metadata": {},
   "outputs": [
    {
     "data": {
      "text/plain": [
       "'2.0.0'"
      ]
     },
     "execution_count": 2,
     "metadata": {},
     "output_type": "execute_result"
    }
   ],
   "source": [
    "torch.__version__"
   ]
  },
  {
   "cell_type": "code",
   "execution_count": 3,
   "id": "cbd47fed",
   "metadata": {},
   "outputs": [
    {
     "data": {
      "text/plain": [
       "<torch._C.Generator at 0x7fe222aa1e50>"
      ]
     },
     "execution_count": 3,
     "metadata": {},
     "output_type": "execute_result"
    }
   ],
   "source": [
    "torch.manual_seed(1943)"
   ]
  },
  {
   "cell_type": "markdown",
   "id": "15cd4d1e",
   "metadata": {},
   "source": [
    "# Load training data"
   ]
  },
  {
   "cell_type": "code",
   "execution_count": 4,
   "id": "50896bb3",
   "metadata": {},
   "outputs": [],
   "source": [
    "# training_data is a dict\n",
    "# key is the name of an instance for hypernetwork training\n",
    "# param is the parameters of MF model\n",
    "# input is a matrix of N x 3 [Strike Price, Time to Maturity, Call/Put (+1,-1)]\n",
    "# output is the price estimated by MF model\n",
    "training_data = json.load(open('training_data.json'))\n",
    "ids = sorted(training_data.keys())\n",
    "# dataset (in Redis)\n",
    "theta = torch.from_numpy(np.vstack([training_data[i]['param'] for i in ids]).astype(np.float32))\n",
    "x = torch.from_numpy(np.stack([training_data[i]['input'] for i in ids]).astype(np.float32))\n",
    "y = torch.from_numpy(np.stack([training_data[i]['output'] for i in ids]).astype(np.float32))"
   ]
  },
  {
   "cell_type": "markdown",
   "id": "303376d4",
   "metadata": {},
   "source": [
    "# Training the HyperNetwork"
   ]
  },
  {
   "cell_type": "code",
   "execution_count": 5,
   "id": "0cba984f",
   "metadata": {},
   "outputs": [],
   "source": [
    "class HyperNetwork(torch.nn.Module):\n",
    "    def __init__(self, hyper: torch.nn.Module, base: torch.nn.Module):\n",
    "        super().__init__()\n",
    "        self._hyper = hyper\n",
    "        params_lookup = [[None, None, 0, 0]]\n",
    "        for name, param in base.named_parameters():\n",
    "            s = params_lookup[-1][-1]\n",
    "            params_lookup.append([name, param.shape, s, s+np.prod(param.shape)])\n",
    "        self._params_lookup = params_lookup[1:]\n",
    "        buffers = {}\n",
    "        self._call = lambda params, data: torch.func.functional_call(base, (params, buffers), (data,))\n",
    "\n",
    "    def forward(self, x: torch.Tensor, z: torch.Tensor) -> torch.Tensor:\n",
    "        params = self._hyper(x)\n",
    "        params_dict = {}\n",
    "        for i in self._params_lookup:\n",
    "            params_dict[i[0]] = params[:, i[2]:i[3]].reshape(-1, *i[1])\n",
    "        return torch.vmap(self._call, in_dims=(0, 0))(params_dict, z)"
   ]
  },
  {
   "cell_type": "code",
   "execution_count": 6,
   "id": "a08f1ade",
   "metadata": {},
   "outputs": [],
   "source": [
    "pricing_network = torch.nn.Sequential(\n",
    "    torch.nn.Linear(3, 100),\n",
    "    torch.nn.ReLU(),\n",
    "    torch.nn.Linear(100, 1),\n",
    ")"
   ]
  },
  {
   "cell_type": "code",
   "execution_count": 7,
   "id": "ef056b75",
   "metadata": {},
   "outputs": [],
   "source": [
    "# compute the total number of parameters in the pricing network\n",
    "n_params = sum([p.numel() for p in pricing_network.parameters()])"
   ]
  },
  {
   "cell_type": "code",
   "execution_count": 8,
   "id": "330e1dd7",
   "metadata": {},
   "outputs": [],
   "source": [
    "hyper_network = torch.nn.Sequential(\n",
    "    torch.nn.Linear(4, 100),\n",
    "    torch.nn.ReLU(),\n",
    "    torch.nn.Linear(100, n_params),\n",
    ")"
   ]
  },
  {
   "cell_type": "code",
   "execution_count": 9,
   "id": "c7b8fa2d",
   "metadata": {},
   "outputs": [],
   "source": [
    "optim = torch.optim.Adam(hyper_network.parameters(), lr=1e-3)"
   ]
  },
  {
   "cell_type": "code",
   "execution_count": 10,
   "id": "ba456338",
   "metadata": {},
   "outputs": [],
   "source": [
    "module = HyperNetwork(hyper_network, pricing_network)"
   ]
  },
  {
   "cell_type": "code",
   "execution_count": 11,
   "id": "ce6ed9cc",
   "metadata": {},
   "outputs": [
    {
     "name": "stdout",
     "output_type": "stream",
     "text": [
      "1.7513721\n",
      "0.04722009\n",
      "0.050412063\n",
      "0.035448443\n",
      "0.04768291\n",
      "0.025554935\n",
      "0.013108632\n",
      "0.013061664\n",
      "0.0125591215\n",
      "0.011982819\n"
     ]
    }
   ],
   "source": [
    "for I in range(1000):\n",
    "    optim.zero_grad()\n",
    "    rnd_idx = np.random.choice(16,8,replace=False)\n",
    "    theta_, x_, y_ = theta[rnd_idx], x[rnd_idx], y[rnd_idx] # batch\n",
    "    loss = torch.abs(module(theta_, x_)-y_).mean() # MAE\n",
    "    loss.backward()\n",
    "    optim.step()\n",
    "    if I % 100 == 0:\n",
    "        print(loss.detach().cpu().numpy())"
   ]
  },
  {
   "cell_type": "markdown",
   "id": "ef8189bd",
   "metadata": {},
   "source": [
    "# Calibrating MF models by HyperNetwork"
   ]
  },
  {
   "cell_type": "code",
   "execution_count": 12,
   "id": "b7b1c4b0",
   "metadata": {},
   "outputs": [],
   "source": [
    "option_data = pd.read_json('option_data.json')\n",
    "discount = option_data['discount_rate'].values.astype(np.float32)\n",
    "forward_price = option_data['forward_price'].values.astype(np.float32)\n",
    "norm_strike = option_data['strike'].values.astype(np.float32) / forward_price\n",
    "option_price = option_data['option_price'].values.astype(np.float32)\n",
    "norm_price = option_price / option_data['forward_price'].values.astype(np.float32)\n",
    "put_call = (option_data['put_call']=='call').values.astype(np.float32)*2-1.0\n",
    "tau = option_data['time_to_maturity'].values.astype(np.float32)"
   ]
  },
  {
   "cell_type": "code",
   "execution_count": 13,
   "id": "9f6778e8",
   "metadata": {},
   "outputs": [],
   "source": [
    "mf_model_param_unconstrained = torch.randn(4, requires_grad=True)"
   ]
  },
  {
   "cell_type": "code",
   "execution_count": 14,
   "id": "9ed841f2",
   "metadata": {},
   "outputs": [],
   "source": [
    "optim = torch.optim.Adam([mf_model_param_unconstrained], lr=1e-3)"
   ]
  },
  {
   "cell_type": "code",
   "execution_count": 15,
   "id": "aebe6b11",
   "metadata": {},
   "outputs": [
    {
     "name": "stdout",
     "output_type": "stream",
     "text": [
      "147.76677\n",
      "128.19937\n",
      "114.644165\n",
      "101.46736\n",
      "89.870895\n",
      "81.63368\n",
      "75.66382\n",
      "71.07116\n",
      "67.35002\n",
      "64.4537\n"
     ]
    }
   ],
   "source": [
    "for I in range(1000):\n",
    "    \n",
    "    H = torch.sigmoid(mf_model_param_unconstrained[0])*0.5      # (0, 0.5)\n",
    "    rho = torch.tanh(mf_model_param_unconstrained[1])           # (-1,1)\n",
    "    eta = torch.sigmoid(mf_model_param_unconstrained[2])*5.0    # (0, 5]\n",
    "    v0 = torch.sigmoid(mf_model_param_unconstrained[3])         # (0, 1]\n",
    "    \n",
    "    mf_model_param = torch.stack([H, rho, eta, v0]).view(1,-1)\n",
    "    \n",
    "    pricing_network_input = torch.from_numpy(np.vstack([norm_strike, tau, put_call])).T.unsqueeze(0)\n",
    "    model_pred = module(mf_model_param, pricing_network_input).squeeze(0,2)\n",
    "    model_pred_denorm = model_pred * torch.from_numpy(forward_price).type_as(model_pred) * torch.from_numpy(discount).type_as(model_pred)\n",
    "    model_output = torch.from_numpy(option_price)\n",
    "    loss = torch.abs(model_pred_denorm-model_output).mean()\n",
    "\n",
    "    optim.zero_grad()\n",
    "    loss.backward()\n",
    "    optim.step()\n",
    "    \n",
    "    if I % 100 == 0:\n",
    "        print(loss.detach().cpu().numpy())"
   ]
  },
  {
   "cell_type": "code",
   "execution_count": null,
   "id": "48d47076",
   "metadata": {},
   "outputs": [],
   "source": []
  }
 ],
 "metadata": {
  "kernelspec": {
   "display_name": "Python 3 (ipykernel)",
   "language": "python",
   "name": "python3"
  },
  "language_info": {
   "codemirror_mode": {
    "name": "ipython",
    "version": 3
   },
   "file_extension": ".py",
   "mimetype": "text/x-python",
   "name": "python",
   "nbconvert_exporter": "python",
   "pygments_lexer": "ipython3",
   "version": "3.9.13"
  }
 },
 "nbformat": 4,
 "nbformat_minor": 5
}

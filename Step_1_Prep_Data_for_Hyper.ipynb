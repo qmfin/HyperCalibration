{
 "cells": [
  {
   "cell_type": "code",
   "execution_count": 1,
   "id": "30fa1984",
   "metadata": {},
   "outputs": [],
   "source": [
    "import pandas as pd\n",
    "import numpy as np\n",
    "from sklearn.mixture import GaussianMixture\n",
    "from rbergomi import rb_pricing\n",
    "from joblib import Parallel, delayed\n",
    "import pickle\n",
    "import matplotlib.pyplot as plt\n",
    "%matplotlib inline"
   ]
  },
  {
   "cell_type": "code",
   "execution_count": 2,
   "id": "4d7c1f1f",
   "metadata": {},
   "outputs": [],
   "source": [
    "# !wget https://github.com/qmfin/option_data/raw/main/sp500_2017.json.bz2"
   ]
  },
  {
   "cell_type": "code",
   "execution_count": 3,
   "id": "e1dc78d8",
   "metadata": {},
   "outputs": [],
   "source": [
    "df = pd.read_json('./sp500_2017.json.bz2', compression='bz2', orient='index')"
   ]
  },
  {
   "cell_type": "code",
   "execution_count": 4,
   "id": "07ea6c03",
   "metadata": {},
   "outputs": [],
   "source": [
    "# df"
   ]
  },
  {
   "cell_type": "code",
   "execution_count": 5,
   "id": "592bce46",
   "metadata": {},
   "outputs": [],
   "source": [
    "call_options = df.query('is_call==1')"
   ]
  },
  {
   "cell_type": "code",
   "execution_count": 6,
   "id": "7ba04401",
   "metadata": {},
   "outputs": [],
   "source": [
    "call_m_t = call_options[['forward_price','tau','strike_price']].values"
   ]
  },
  {
   "cell_type": "code",
   "execution_count": 7,
   "id": "1463c6d2",
   "metadata": {},
   "outputs": [],
   "source": [
    "call_m_t = np.vstack([call_m_t[:,2]/call_m_t[:,0], call_m_t[:,1]]).T"
   ]
  },
  {
   "cell_type": "code",
   "execution_count": 8,
   "id": "9dfea066",
   "metadata": {},
   "outputs": [],
   "source": [
    "# call_m_t"
   ]
  },
  {
   "cell_type": "code",
   "execution_count": 9,
   "id": "6ed1cd2e",
   "metadata": {},
   "outputs": [],
   "source": [
    "# plt.scatter(*call_m_t[0::100].T, marker='.')"
   ]
  },
  {
   "cell_type": "code",
   "execution_count": 10,
   "id": "c19fabab",
   "metadata": {},
   "outputs": [],
   "source": [
    "call_gmm = GaussianMixture(n_components=64).fit(call_m_t)"
   ]
  },
  {
   "cell_type": "code",
   "execution_count": 11,
   "id": "d20e7ed1",
   "metadata": {},
   "outputs": [],
   "source": [
    "# plt.scatter(*call_gmm.sample(10000)[0].T, marker='.')"
   ]
  },
  {
   "cell_type": "code",
   "execution_count": 12,
   "id": "8e2cc2b4",
   "metadata": {},
   "outputs": [],
   "source": [
    "put_options = df.query('is_call==-1')"
   ]
  },
  {
   "cell_type": "code",
   "execution_count": 13,
   "id": "b92f2f1f",
   "metadata": {},
   "outputs": [],
   "source": [
    "put_m_t = put_options[['forward_price','tau','strike_price']].values"
   ]
  },
  {
   "cell_type": "code",
   "execution_count": 14,
   "id": "7750b758",
   "metadata": {},
   "outputs": [],
   "source": [
    "put_m_t = np.vstack([put_m_t[:,2]/put_m_t[:,0], put_m_t[:,1]]).T"
   ]
  },
  {
   "cell_type": "code",
   "execution_count": 15,
   "id": "f9a17d9f",
   "metadata": {},
   "outputs": [],
   "source": [
    "# put_m_t"
   ]
  },
  {
   "cell_type": "code",
   "execution_count": 16,
   "id": "5acb515c",
   "metadata": {},
   "outputs": [],
   "source": [
    "# plt.scatter(*put_m_t[0::100].T, marker='.')"
   ]
  },
  {
   "cell_type": "code",
   "execution_count": 17,
   "id": "c96d1f35",
   "metadata": {},
   "outputs": [],
   "source": [
    "put_gmm = GaussianMixture(n_components=64).fit(put_m_t)"
   ]
  },
  {
   "cell_type": "code",
   "execution_count": 18,
   "id": "af0785d4",
   "metadata": {},
   "outputs": [],
   "source": [
    "# plt.scatter(*put_gmm.sample(10000)[0].T, marker='.')"
   ]
  },
  {
   "cell_type": "code",
   "execution_count": 19,
   "id": "b9ace59e",
   "metadata": {},
   "outputs": [],
   "source": [
    "# (v0, eta, rho , H) ∈ (0, 1] × (0, 5] × (-1,1) × (0, 0.5)\n",
    "def gen_training_data(call_gmm, put_gmm, n_call=512, n_put=512):\n",
    "    H = np.random.rand()*0.5\n",
    "    rho = np.random.rand()*2-1\n",
    "    eta = np.random.rand()*5\n",
    "    v0 = np.random.rand()\n",
    "    \n",
    "    call = call_gmm.sample(n_call)[0]\n",
    "    put = put_gmm.sample(n_put)[0]\n",
    "\n",
    "    input_all = np.vstack([np.hstack([call, np.ones((n_call,1))]), \n",
    "                           np.hstack([put, -np.ones((n_put,1))])])\n",
    "    S0 = 1.0\n",
    "    data = rb_pricing(input_all, S0, H, rho, eta, v0)\n",
    "    return data"
   ]
  },
  {
   "cell_type": "code",
   "execution_count": 20,
   "id": "03b38147",
   "metadata": {},
   "outputs": [
    {
     "name": "stderr",
     "output_type": "stream",
     "text": [
      "[Parallel(n_jobs=8)]: Using backend LokyBackend with 8 concurrent workers.\n",
      "/Users/yang/opt/anaconda3/lib/python3.9/site-packages/joblib/externals/loky/process_executor.py:700: UserWarning: A worker stopped while some jobs were given to the executor. This can be caused by a too short worker timeout or by a memory leak.\n",
      "  warnings.warn(\n",
      "[Parallel(n_jobs=8)]: Done  32 out of  32 | elapsed:   23.3s finished\n"
     ]
    }
   ],
   "source": [
    "n_thread = 8\n",
    "n_sample = 32\n",
    "n_files = 32 * 32 * 32\n",
    "for _ in range(n_files):\n",
    "    results = Parallel(n_jobs=n_thread, verbose=1)(delayed(gen_training_data)(call_gmm, put_gmm, 512, 512) for i in range(n_sample))\n",
    "    pickle.dump(results, open('trn_%09d.pkl'%_, 'wb'))\n",
    "    break"
   ]
  }
 ],
 "metadata": {
  "kernelspec": {
   "display_name": "Python 3 (ipykernel)",
   "language": "python",
   "name": "python3"
  },
  "language_info": {
   "codemirror_mode": {
    "name": "ipython",
    "version": 3
   },
   "file_extension": ".py",
   "mimetype": "text/x-python",
   "name": "python",
   "nbconvert_exporter": "python",
   "pygments_lexer": "ipython3",
   "version": "3.9.13"
  }
 },
 "nbformat": 4,
 "nbformat_minor": 5
}
